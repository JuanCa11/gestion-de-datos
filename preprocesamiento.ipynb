{
 "cells": [
  {
   "cell_type": "code",
   "execution_count": 1,
   "metadata": {},
   "outputs": [
    {
     "name": "stderr",
     "output_type": "stream",
     "text": [
      "/srv/conda/envs/notebook/lib/python3.7/site-packages/IPython/core/interactiveshell.py:3072: DtypeWarning: Columns (10) have mixed types. Specify dtype option on import or set low_memory=False.\n",
      "  interactivity=interactivity, compiler=compiler, result=result)\n"
     ]
    }
   ],
   "source": [
    "import pandas as pd\n",
    "import numpy as np\n",
    "df = pd.read_csv('PROGRAMAS_DE_EDUCACI_N_SUPERIOR.csv')"
   ]
  },
  {
   "cell_type": "code",
   "execution_count": 2,
   "metadata": {},
   "outputs": [],
   "source": [
    "df.head(5)\n",
    "to_drop=[\n",
    "'codigoinstitucion',\n",
    "'nombreinstitucion',\n",
    "'codigoprograma',\n",
    "'codigodepartprograma',\n",
    "'nombredepartprograma',\n",
    "'codigometodologia',\n",
    "'nombremetodologia',\n",
    "'numeroresolucionacreditacion',\n",
    "'nombretituloobtenido',\n",
    "'VALOR_MATRICULA_2018',\n",
    "'VALOR_MATRICULA_2019'\n",
    "]\n",
    "df.drop(to_drop, inplace=True, axis=1)"
   ]
  },
  {
   "cell_type": "code",
   "execution_count": null,
   "metadata": {},
   "outputs": [],
   "source": [
    "df.replace(np.nan, '', regex=True)\n",
    "df = df.fillna('').apply(lambda x: x.astype(str).str.upper())\n",
    "df = df.apply(lambda x: x.str.replace(u'¿C', 'EC'))\n",
    "df = df.apply(lambda x: x.str.replace(u'¿N', 'ON'))\n",
    "df = df.apply(lambda x: x.str.replace(u'R¿S', 'RIS'))\n",
    "df = df.apply(lambda x: x.str.replace(u'R¿C', 'RIC'))\n",
    "df = df.apply(lambda x: x.str.replace(u'R¿F', 'RAF'))\n",
    "df = df.apply(lambda x: x.str.replace(u'¿O', 'ÑO'))\n",
    "df = df.apply(lambda x: x.str.replace(u'F¿', 'FE'))\n",
    "df = df.apply(lambda x: x.str.replace(u'M¿T', 'MAT'))\n",
    "df = df.apply(lambda x: x.str.replace(u'G¿A', 'GIA'))\n",
    "df = df.apply(lambda x: x.str.replace(u'C¿N', 'CAN'))\n",
    "df = df.apply(lambda x: x.str.replace(u'R¿L', 'ROL'))\n",
    "df = df.apply(lambda x: x.str.replace(u'P¿B', 'PUB'))\n",
    "df = df.apply(lambda x: x.str.replace(u'N¿L', 'NOL'))\n",
    "df = df.apply(lambda x: x.str.replace(u'G¿S', 'GIS'))\n",
    "df = df.apply(lambda x: x.str.replace(u'L¿S', 'LIS'))\n",
    "df = df.apply(lambda x: x.str.replace(u'R¿A', 'RIA'))\n",
    "df = df.apply(lambda x: x.str.replace(u'DIN¿M', 'DINAM'))\n",
    "df = df.apply(lambda x: x.str.replace(u'U¿M', 'UIM'))\n",
    "df = df.apply(lambda x: x.str.replace(u'I¿E', 'IÑE'))\n",
    "df = df.apply(lambda x: x.str.replace(u'E¿A', 'EÑA'))\n",
    "df = df.apply(lambda x: x.str.replace(u'ON¿M', 'ONOM'))\n",
    "df = df.apply(lambda x: x.str.replace(u'N¿M', 'NIM'))\n",
    "df = df.apply(lambda x: x.str.replace(u'N¿U', 'NEU'))\n",
    "df = df.apply(lambda x: x.str.replace(u'T¿G', 'TEG'))\n",
    "df = df.apply(lambda x: x.str.replace(u'T¿T', 'TET'))\n",
    "df = df.apply(lambda x: x.str.replace(u'L¿T', 'LIT'))\n",
    "df = df.apply(lambda x: x.str.replace(u'L¿G', 'LOG'))\n",
    "df = df.apply(lambda x: x.str.replace(u'A¿A', 'AÑA'))\n",
    "df = df.apply(lambda x: x.str.replace(u'E¿O', 'EÑO'))\n",
    "df = df.apply(lambda x: x.str.replace(u'O?IT', 'OÑIT'))\n",
    "df = df.apply(lambda x: x.str.replace(u'O?IT', 'OÑIT'))\n",
    "df = df.apply(lambda x: x.str.replace(u'O?IT', 'OÑIT'))\n",
    "df = df.apply(lambda x: x.str.replace(u'PE?O', 'PEÑO'))\n",
    "df = df.apply(lambda x: x.str.replace(u'CA?A', 'CAÑA'))\n",
    "df = df.apply(lambda x: x.str.replace(u'Á', 'A'))\n",
    "df = df.apply(lambda x: x.str.replace(u'É', 'E'))\n",
    "df = df.apply(lambda x: x.str.replace(u'Í', 'I'))\n",
    "df = df.apply(lambda x: x.str.replace(u'Ó', 'O'))\n",
    "df = df.apply(lambda x: x.str.replace(u'Ö', 'O'))\n",
    "df = df.apply(lambda x: x.str.replace(u'Ú', 'U'))\n",
    "df['nombreprograma']"
   ]
  },
  {
   "cell_type": "code",
   "execution_count": null,
   "metadata": {},
   "outputs": [],
   "source": [
    "df.to_csv('PROGRAMAS_EDUCACION_UPPERCASE.csv', sep=',', index=False)"
   ]
  }
 ],
 "metadata": {
  "kernelspec": {
   "display_name": "Python 3",
   "language": "python",
   "name": "python3"
  },
  "language_info": {
   "codemirror_mode": {
    "name": "ipython",
    "version": 3
   },
   "file_extension": ".py",
   "mimetype": "text/x-python",
   "name": "python",
   "nbconvert_exporter": "python",
   "pygments_lexer": "ipython3",
   "version": "3.7.8"
  }
 },
 "nbformat": 4,
 "nbformat_minor": 4
}
