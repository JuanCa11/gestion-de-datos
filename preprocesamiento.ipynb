{
 "cells": [
  {
   "cell_type": "code",
   "execution_count": 1,
   "metadata": {},
   "outputs": [
    {
     "name": "stderr",
     "output_type": "stream",
     "text": [
      "/srv/conda/envs/notebook/lib/python3.7/site-packages/IPython/core/interactiveshell.py:3072: DtypeWarning: Columns (10) have mixed types. Specify dtype option on import or set low_memory=False.\n",
      "  interactivity=interactivity, compiler=compiler, result=result)\n"
     ]
    }
   ],
   "source": [
    "import pandas as pd\n",
    "import numpy as np\n",
    "df = pd.read_csv('PROGRAMAS_DE_EDUCACI_N_SUPERIOR.csv')"
   ]
  },
  {
   "cell_type": "code",
   "execution_count": 2,
   "metadata": {},
   "outputs": [],
   "source": [
    "df.head(5)\n",
    "to_drop=[\n",
    "'codigoinstitucion',\n",
    "'nombreinstitucion',\n",
    "'codigoprograma',\n",
    "'codigodepartprograma',\n",
    "'nombredepartprograma',\n",
    "'codigometodologia',\n",
    "'nombremetodologia',\n",
    "'numeroresolucionacreditacion',\n",
    "'nombretituloobtenido',\n",
    "'VALOR_MATRICULA_2018',\n",
    "'VALOR_MATRICULA_2019'\n",
    "]\n",
    "df.drop(to_drop, inplace=True, axis=1)"
   ]
  },
  {
   "cell_type": "code",
   "execution_count": 4,
   "metadata": {},
   "outputs": [
    {
     "data": {
      "text/plain": [
       "0        TECNOLOGIA EN HOTELERIA TURISMO Y RELACIONES P...\n",
       "1                               ESPECIALIDAD EN ENDODONCIA\n",
       "2            MAESTRIA EN CIENCIA Y TECNOLOGIA DE ALIMENTOS\n",
       "3        ESPECIALIZACION EN MERCADOS Y POLITICAS DE SUE...\n",
       "4                               MAESTRIA EN TRABAJO SOCIAL\n",
       "5               ESPECIALIZACION EN SISTEMAS DE INFORMACION\n",
       "6         ESPECIALIZACION EN ENFERMERIA CARDIORESPIRATORIA\n",
       "7        ESPECIALIZACION EN AUTOMATIZACION DE EQUIPOS Y...\n",
       "8                                   MAESTRIA EN INGENIERIA\n",
       "9                                   INGENIERIA EN MERCADEO\n",
       "10                                       INGENIERIA FISICA\n",
       "11                                         ARTES PLASTICAS\n",
       "12                               INGENIERIA ADMINISTRATIVA\n",
       "13                                            ARQUITECTURA\n",
       "14                      MAESTRIA EN CIENCIAS - ENTOMOLOGIA\n",
       "15                              LICENCIATURA EN LITERATURA\n",
       "16                                 TECNOLOGIA AGROPECUARIA\n",
       "17           TECNICA PROFESIONAL EN SECRETARIADO EJECUTIVO\n",
       "18       MAESTRIA EN SISTEMAS DE GENERACION DE ENERGIA ...\n",
       "19             MAESTRIA EN INGENIERIA - INGENIERIA QUIMICA\n",
       "20       ESPECIALIZACION EN ADMINISTRACION DE INSTITUCI...\n",
       "21                           ESPECIALIZACION EN ENDODONCIA\n",
       "22                               MAESTRIA EN  ARQUITECTURA\n",
       "23                                            BELLAS ARTES\n",
       "24                      LICENCIATURA EN PEDAGOGIA INFANTIL\n",
       "25         ESPECIALIZACION EN GESTION Y CONTROL TRIBUTARIO\n",
       "26                                   TECNOLOGIA EN CALIDAD\n",
       "27                                  INGENIERIA INFORMATICA\n",
       "28                                             ODONTOLOGIA\n",
       "29       LICENCIATURA EN LENGUAS EXTRANJERAS INGLES-FRA...\n",
       "                               ...                        \n",
       "86692    ESPECIALIZACION EN SEGURIDAD DE REDES TELEMATICAS\n",
       "86693    TECNOLOGIA EN GESTION DE LA SEGURIDAD Y SALUD ...\n",
       "86694                                  CONTADURIA  PUBLICA\n",
       "86695    MAESTRIA EN GERENCIA ESTRATEGICA DEL TALENTO H...\n",
       "86696                     COMUNICACION SOCIAL Y PERIODISMO\n",
       "86697                                     MERCADEO DIGITAL\n",
       "86698    TECNOLOGIA EN DISEÑO Y PROGRAMACION DE SOLUCIO...\n",
       "86699                                 MAESTRIA EN FINANZAS\n",
       "86700    TECNOLOGIA EN SUPERVISION DE LA FABRICACION DE...\n",
       "86701                                     CIENCIA POLITICA\n",
       "86702    TECNOLOGIA EN GESTION DE LA PRODUCCION INDUSTRIAL\n",
       "86703                    MAESTRIA EN COMUNICACION CREATIVA\n",
       "86704    TECNICA PROFESIONAL EN PROCESOS DE PRODUCCION ...\n",
       "86705                               MAESTRIA EN SOCIOLOGIA\n",
       "86706                         MAESTRIA EN EDUCACION MEDICA\n",
       "86707                   TECNOLOGIA EN PRODUCCION HORTICOLA\n",
       "86708    LICENCIATURA EN EDUCACION FISICA, RECREACION Y...\n",
       "86709       LICENCIATURA EN LITERATURA Y LENGUA CASTELLANA\n",
       "86710      TECNOLOGIA EN GESTION GASTRONOMICA Y DE BEBIDAS\n",
       "86711               ESPECIALIZACION EN EDUCACION INCLUSIVA\n",
       "86712    TECNICA PROFESIONAL EN PROCESOS GASTRONOMICOS ...\n",
       "86713                                       ARTE DRAMATICO\n",
       "86714                     COMUNICACION SOCIAL Y PERIODISMO\n",
       "86715               MAESTRIA EN GESTION PUBLICA Y GOBIERNO\n",
       "86716                     MAESTRIA EN RECURSOS ENERGETICOS\n",
       "86717    LICENCIATURA EN LENGUAS MODERNAS CON ENFASIS E...\n",
       "86718                   MAESTRIA EN PRODUCCION DE FRUTALES\n",
       "86719                                MAESTRIA EN EDUCACION\n",
       "86720               MAESTRIA EN ADMINISTRACION DE NEGOCIOS\n",
       "86721        TECNOLOGIA EN CONTROL DE CALIDAD DE ALIMENTOS\n",
       "Name: nombreprograma, Length: 86722, dtype: object"
      ]
     },
     "execution_count": 4,
     "metadata": {},
     "output_type": "execute_result"
    }
   ],
   "source": [
    "df.replace(np.nan, '', regex=True)\n",
    "df = df.fillna('').apply(lambda x: x.astype(str).str.upper())\n",
    "df = df.apply(lambda x: x.str.replace(u'¿C', 'EC'))\n",
    "df = df.apply(lambda x: x.str.replace(u'¿N', 'ON'))\n",
    "df = df.apply(lambda x: x.str.replace(u'R¿S', 'RIS'))\n",
    "df = df.apply(lambda x: x.str.replace(u'R¿C', 'RIC'))\n",
    "df = df.apply(lambda x: x.str.replace(u'R¿F', 'RAF'))\n",
    "df = df.apply(lambda x: x.str.replace(u'¿O', 'ÑO'))\n",
    "df = df.apply(lambda x: x.str.replace(u'F¿', 'FE'))\n",
    "df = df.apply(lambda x: x.str.replace(u'M¿T', 'MAT'))\n",
    "df = df.apply(lambda x: x.str.replace(u'G¿A', 'GIA'))\n",
    "df = df.apply(lambda x: x.str.replace(u'C¿N', 'CAN'))\n",
    "df = df.apply(lambda x: x.str.replace(u'R¿L', 'ROL'))\n",
    "df = df.apply(lambda x: x.str.replace(u'P¿B', 'PUB'))\n",
    "df = df.apply(lambda x: x.str.replace(u'N¿L', 'NOL'))\n",
    "df = df.apply(lambda x: x.str.replace(u'G¿S', 'GIS'))\n",
    "df = df.apply(lambda x: x.str.replace(u'L¿S', 'LIS'))\n",
    "df = df.apply(lambda x: x.str.replace(u'R¿A', 'RIA'))\n",
    "df = df.apply(lambda x: x.str.replace(u'DIN¿M', 'DINAM'))\n",
    "df = df.apply(lambda x: x.str.replace(u'U¿M', 'UIM'))\n",
    "df = df.apply(lambda x: x.str.replace(u'I¿E', 'IÑE'))\n",
    "df = df.apply(lambda x: x.str.replace(u'E¿A', 'EÑA'))\n",
    "df = df.apply(lambda x: x.str.replace(u'ON¿M', 'ONOM'))\n",
    "df = df.apply(lambda x: x.str.replace(u'N¿M', 'NIM'))\n",
    "df = df.apply(lambda x: x.str.replace(u'N¿U', 'NEU'))\n",
    "df = df.apply(lambda x: x.str.replace(u'T¿G', 'TEG'))\n",
    "df = df.apply(lambda x: x.str.replace(u'T¿T', 'TET'))\n",
    "df = df.apply(lambda x: x.str.replace(u'L¿T', 'LIT'))\n",
    "df = df.apply(lambda x: x.str.replace(u'L¿G', 'LOG'))\n",
    "df = df.apply(lambda x: x.str.replace(u'Á', 'A'))\n",
    "df = df.apply(lambda x: x.str.replace(u'É', 'E'))\n",
    "df = df.apply(lambda x: x.str.replace(u'Í', 'I'))\n",
    "df = df.apply(lambda x: x.str.replace(u'Ó', 'O'))\n",
    "df = df.apply(lambda x: x.str.replace(u'Ú', 'U'))\n",
    "df['nombreprograma']"
   ]
  },
  {
   "cell_type": "code",
   "execution_count": 5,
   "metadata": {},
   "outputs": [],
   "source": [
    "df.to_csv('PROGRAMAS_EDUCACION_UPPERCASE.csv', sep=',', index=False)"
   ]
  },
  {
   "cell_type": "code",
   "execution_count": null,
   "metadata": {},
   "outputs": [],
   "source": []
  }
 ],
 "metadata": {
  "kernelspec": {
   "display_name": "Python 3",
   "language": "python",
   "name": "python3"
  },
  "language_info": {
   "codemirror_mode": {
    "name": "ipython",
    "version": 3
   },
   "file_extension": ".py",
   "mimetype": "text/x-python",
   "name": "python",
   "nbconvert_exporter": "python",
   "pygments_lexer": "ipython3",
   "version": "3.7.8"
  }
 },
 "nbformat": 4,
 "nbformat_minor": 4
}
